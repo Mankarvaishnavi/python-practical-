{
 "cells": [
  {
   "cell_type": "code",
   "execution_count": 3,
   "id": "17b3ac20",
   "metadata": {},
   "outputs": [
    {
     "name": "stdout",
     "output_type": "stream",
     "text": [
      "Enter first side: 3\n",
      "Enter second side: 3\n",
      "Enter third side: 3\n"
     ]
    },
    {
     "ename": "TypeError",
     "evalue": "'float' object is not callable",
     "output_type": "error",
     "traceback": [
      "\u001b[1;31m---------------------------------------------------------------------------\u001b[0m",
      "\u001b[1;31mTypeError\u001b[0m                                 Traceback (most recent call last)",
      "\u001b[1;32m~\\AppData\\Local\\Temp/ipykernel_17500/467378215.py\u001b[0m in \u001b[0;36m<module>\u001b[1;34m\u001b[0m\n\u001b[0;32m      4\u001b[0m \u001b[0mc\u001b[0m \u001b[1;33m=\u001b[0m \u001b[0mfloat\u001b[0m\u001b[1;33m(\u001b[0m\u001b[0minput\u001b[0m\u001b[1;33m(\u001b[0m\u001b[1;34m'Enter third side: '\u001b[0m\u001b[1;33m)\u001b[0m\u001b[1;33m)\u001b[0m\u001b[1;33m\u001b[0m\u001b[1;33m\u001b[0m\u001b[0m\n\u001b[0;32m      5\u001b[0m \u001b[0ms\u001b[0m \u001b[1;33m=\u001b[0m \u001b[1;33m(\u001b[0m\u001b[0ma\u001b[0m \u001b[1;33m+\u001b[0m \u001b[0mb\u001b[0m \u001b[1;33m+\u001b[0m \u001b[0mc\u001b[0m\u001b[1;33m)\u001b[0m \u001b[1;33m/\u001b[0m \u001b[1;36m2\u001b[0m\u001b[1;33m\u001b[0m\u001b[1;33m\u001b[0m\u001b[0m\n\u001b[1;32m----> 6\u001b[1;33m \u001b[0marea\u001b[0m \u001b[1;33m=\u001b[0m \u001b[1;33m(\u001b[0m\u001b[0ms\u001b[0m\u001b[1;33m*\u001b[0m\u001b[1;33m(\u001b[0m\u001b[0ms\u001b[0m\u001b[1;33m-\u001b[0m\u001b[0ma\u001b[0m\u001b[1;33m)\u001b[0m\u001b[1;33m(\u001b[0m\u001b[0ms\u001b[0m\u001b[1;33m-\u001b[0m\u001b[0mb\u001b[0m\u001b[1;33m)\u001b[0m\u001b[1;33m(\u001b[0m\u001b[0ms\u001b[0m\u001b[1;33m-\u001b[0m\u001b[0mc\u001b[0m\u001b[1;33m)\u001b[0m\u001b[1;33m)\u001b[0m \u001b[1;33m**\u001b[0m \u001b[1;36m0.5\u001b[0m\u001b[1;33m\u001b[0m\u001b[1;33m\u001b[0m\u001b[0m\n\u001b[0m\u001b[0;32m      7\u001b[0m \u001b[0mprint\u001b[0m\u001b[1;33m(\u001b[0m\u001b[1;34m'The area of the triangle is %0.2f'\u001b[0m \u001b[1;33m%\u001b[0m\u001b[0marea\u001b[0m\u001b[1;33m)\u001b[0m\u001b[1;33m\u001b[0m\u001b[1;33m\u001b[0m\u001b[0m\n",
      "\u001b[1;31mTypeError\u001b[0m: 'float' object is not callable"
     ]
    }
   ],
   "source": [
    "#1. Python Program to Calculate the Area of a Triangle \n",
    "a = float(input('Enter first side: ')) \n",
    "b = float(input('Enter second side: ')) \n",
    "c = float(input('Enter third side: ')) \n",
    "s = (a + b + c) / 2 \n",
    "area = (s*(s-a)(s-b)(s-c)) ** 0.5\n",
    "print('The area of the triangle is %0.2f' %area)"
   ]
  },
  {
   "cell_type": "code",
   "execution_count": 4,
   "id": "ccb28221",
   "metadata": {},
   "outputs": [
    {
     "name": "stdout",
     "output_type": "stream",
     "text": [
      "Enter value of X: 4\n",
      "Enter value of Y: 5\n",
      "Value of x: 5.0\n",
      "Value of y: 4.0\n"
     ]
    }
   ],
   "source": [
    "# 2Python Program to Swap Two Variables\n",
    "x = float(input('Enter value of X: '))\n",
    "y = float(input('Enter value of Y: ')) \n",
    "temp = x \n",
    "x = y\n",
    "y = temp\n",
    "print(\"Value of x:\", x)\n",
    "print(\"Value of y:\", y)"
   ]
  },
  {
   "cell_type": "code",
   "execution_count": 5,
   "id": "1baa5794",
   "metadata": {},
   "outputs": [
    {
     "name": "stdout",
     "output_type": "stream",
     "text": [
      "50\n"
     ]
    }
   ],
   "source": [
    "#.3 Python Program to Generate a Random Number \n",
    "import random\n",
    "n = random.randint(0,50) \n",
    "print(n)"
   ]
  },
  {
   "cell_type": "code",
   "execution_count": 8,
   "id": "df3e877a",
   "metadata": {},
   "outputs": [
    {
     "name": "stdout",
     "output_type": "stream",
     "text": [
      "Enter a number: 4\n",
      "Positive number\n"
     ]
    }
   ],
   "source": [
    "#1.Write a Python Program to Check if a Number is Positive, Negative or Zero\n",
    "num = float(input(\"Enter a number: \")) \n",
    "if num >= 0: \n",
    "    if num == 0:\n",
    "        print(\"Zero\") \n",
    "    else: \n",
    "            print(\"Positive number\")\n",
    "else:\n",
    "    print(\"Negative number\")"
   ]
  },
  {
   "cell_type": "code",
   "execution_count": 1,
   "id": "6e9cfed9",
   "metadata": {
    "scrolled": true
   },
   "outputs": [
    {
     "name": "stdout",
     "output_type": "stream",
     "text": [
      "Enter a number: 4\n",
      "4 is Even\n"
     ]
    }
   ],
   "source": [
    "#2.Write a Python Program to Check if a Number is Odd or Even \n",
    "num = int(input(\"Enter a number: \"))\n",
    "if (num % 2) == 0:\n",
    "    print(\"{0} is Even\".format(num))\n",
    "else:\n",
    "    print(\"{0} is Odd\".format(num))"
   ]
  },
  {
   "cell_type": "code",
   "execution_count": 2,
   "id": "1ba59fa0",
   "metadata": {
    "scrolled": true
   },
   "outputs": [
    {
     "name": "stdout",
     "output_type": "stream",
     "text": [
      "Enter a number: 6\n",
      "6 is not a prime number\n"
     ]
    }
   ],
   "source": [
    "#3.Write a Python Program to Check Prime Number\n",
    "num = int(input(\"Enter a number: \"))\n",
    "flag = False\n",
    "if num > 1: \n",
    "    for i in range(2, num): \n",
    "        if (num % i) == 0: \n",
    "            flag = True\n",
    "            break\n",
    "if flag:\n",
    "    print(num, \"is not a prime number\") \n",
    "else:\n",
    "    print(num, \"is a prime number\")"
   ]
  },
  {
   "cell_type": "code",
   "execution_count": 9,
   "id": "321eeb81",
   "metadata": {},
   "outputs": [
    {
     "name": "stdout",
     "output_type": "stream",
     "text": [
      "Enter a number: 6\n",
      "6 is not an Armstrong number\n"
     ]
    }
   ],
   "source": [
    "#4.Write a Python Program to Check Armstrong Number\n",
    "num = int(input(\"Enter a number: \"))\n",
    "sum = 0\n",
    "temp = num\n",
    "while temp > 0:\n",
    "    digit = temp % 10\n",
    "    sum += digit ** 3\n",
    "    temp //= 10 \n",
    "if num == sum:\n",
    "        print(num,\"is an Armstrong number\")\n",
    "else: \n",
    "    print(num,\"is not an Armstrong number\")"
   ]
  },
  {
   "cell_type": "code",
   "execution_count": 16,
   "id": "0822d4fd",
   "metadata": {},
   "outputs": [
    {
     "name": "stdout",
     "output_type": "stream",
     "text": [
      "Enter a number:6\n",
      "The factorial of 6 is 720\n"
     ]
    }
   ],
   "source": [
    "#5.Write a Python Program to Find the Factorial of a Number\n",
    "num = int(input(\"Enter a number:\"))\n",
    "factorial = 1 \n",
    "if num < 0:\n",
    "    print(\"Sorry, factorial does not exist for negative numbers\")\n",
    "elif num == 0:\n",
    "    print(\"The factorial of 0 is 1\") \n",
    "else: \n",
    "    for i in range(1,num + 1):\n",
    "                factorial = factorial*i\n",
    "    print(\"The factorial of\",num,\"is\",factorial)"
   ]
  },
  {
   "cell_type": "markdown",
   "id": "2be4400a",
   "metadata": {},
   "source": [
    "# PRACTICE PROGRAMS"
   ]
  },
  {
   "cell_type": "code",
   "execution_count": 17,
   "id": "5b714441",
   "metadata": {},
   "outputs": [
    {
     "name": "stdout",
     "output_type": "stream",
     "text": [
      "Enter value in kilometers: 6\n",
      "6.00 kilometers is equal to 3.73 miles\n"
     ]
    }
   ],
   "source": [
    "#1. Python Program to Convert Kilometers to Miles \n",
    "kilometers = float(input(\"Enter value in kilometers: \")) \n",
    "conv_fac = 0.621371\n",
    "miles = kilometers * conv_fac \n",
    "print('%0.2f kilometers is equal to %0.2f miles' %(kilometers,miles))"
   ]
  },
  {
   "cell_type": "code",
   "execution_count": 18,
   "id": "f391af25",
   "metadata": {},
   "outputs": [
    {
     "name": "stdout",
     "output_type": "stream",
     "text": [
      "Enter value in celsius: 3\n",
      "3.0 degree Celsius is equal to 37.4 degree Fahrenheit\n"
     ]
    }
   ],
   "source": [
    "#2.Python Program to Convert Celsius To Fahrenheit \n",
    "celsius = float(input(\"Enter value in celsius: \")) \n",
    "fahrenheit = (celsius * 1.8) + 32 \n",
    "print('%0.1f degree Celsius is equal to %0.1f degree Fahrenheit' %(celsius,fahrenheit))"
   ]
  },
  {
   "cell_type": "code",
   "execution_count": 19,
   "id": "40dc105a",
   "metadata": {},
   "outputs": [
    {
     "name": "stdout",
     "output_type": "stream",
     "text": [
      "Enter a year: 2025\n",
      "2025 is not a leap year\n"
     ]
    }
   ],
   "source": [
    "#3.Write a Python Program to Check Leap Year\n",
    "year = int(input(\"Enter a year: \")) \n",
    "if (year % 400 == 0) and (year % 100 == 0): \n",
    "    print(\"{0} is a leap year\".format(year))\n",
    "elif (year % 4 ==0) and (year % 100 != 0):\n",
    "    print(\"{0} is a leap year\".format(year)) \n",
    "else:\n",
    "    print(\"{0} is not a leap year\".format(year))"
   ]
  },
  {
   "cell_type": "code",
   "execution_count": 20,
   "id": "7606f3ba",
   "metadata": {},
   "outputs": [
    {
     "name": "stdout",
     "output_type": "stream",
     "text": [
      "Enter the lower number:2\n",
      "Enter the upper number: 200\n",
      "Prime numbers between 2 and 200 are:\n",
      "2\n",
      "3\n",
      "5\n",
      "7\n",
      "11\n",
      "13\n",
      "17\n",
      "19\n",
      "23\n",
      "29\n",
      "31\n",
      "37\n",
      "41\n",
      "43\n",
      "47\n",
      "53\n",
      "59\n",
      "61\n",
      "67\n",
      "71\n",
      "73\n",
      "79\n",
      "83\n",
      "89\n",
      "97\n",
      "101\n",
      "103\n",
      "107\n",
      "109\n",
      "113\n",
      "127\n",
      "131\n",
      "137\n",
      "139\n",
      "149\n",
      "151\n",
      "157\n",
      "163\n",
      "167\n",
      "173\n",
      "179\n",
      "181\n",
      "191\n",
      "193\n",
      "197\n",
      "199\n"
     ]
    }
   ],
   "source": [
    "#4.Write a Python Program to Print all Prime Numbers in an Interval\n",
    "lower = int(input(\"Enter the lower number:\")) \n",
    "upper = int(input(\"Enter the upper number: \")) \n",
    "print(\"Prime numbers between\", lower, \"and\", upper, \"are:\") \n",
    "for num in range(lower, upper + 1):\n",
    "    if num > 1:\n",
    "        for i in range(2, num):\n",
    "            if (num % i) == 0:\n",
    "                break \n",
    "        else: \n",
    "            print(num)"
   ]
  },
  {
   "cell_type": "code",
   "execution_count": 25,
   "id": "4bb7fcd5",
   "metadata": {},
   "outputs": [
    {
     "name": "stdout",
     "output_type": "stream",
     "text": [
      "How many terms the user wants to print? 7\n",
      "The fibonacci sequence of the numbers is:\n",
      "0\n",
      "1\n",
      "1\n",
      "2\n",
      "3\n",
      "5\n",
      "8\n"
     ]
    }
   ],
   "source": [
    "#5.Write a Python Program to Print the Fibonacci sequence\n",
    "n_terms = int(input (\"How many terms the user wants to print? \"))\n",
    "n_1 = 0 \n",
    "n_2 = 1 \n",
    "count = 0\n",
    "if n_terms <= 0: \n",
    "    print (\"Please enter a positive integer, the given number is not valid\")\n",
    "elif n_terms == 1: \n",
    "    print (\"The Fibonacci sequence of the numbers up to\", n_terms, \": \") \n",
    "    print(n_1)\n",
    "else:\n",
    "    print (\"The fibonacci sequence of the numbers is:\")\n",
    "    while count < n_terms: \n",
    "        print(n_1)\n",
    "        nth = n_1 + n_2\n",
    "        n_1 = n_2\n",
    "        n_2 = nth\n",
    "        count += 1"
   ]
  },
  {
   "cell_type": "code",
   "execution_count": 26,
   "id": "1fde0f5d",
   "metadata": {},
   "outputs": [
    {
     "name": "stdout",
     "output_type": "stream",
     "text": [
      "Enter the lower number:1\n",
      "Enter the upper number:50\n",
      "1\n",
      "2\n",
      "3\n",
      "4\n",
      "5\n",
      "6\n",
      "7\n",
      "8\n",
      "9\n"
     ]
    }
   ],
   "source": [
    "#6.Write a Python Program to Find Armstrong Number in an Interval \n",
    "lower = int(input(\"Enter the lower number:\")) \n",
    "upper = int(input(\"Enter the upper number:\")) \n",
    "for num in range(lower, upper + 1): \n",
    "    # order of number \n",
    "    order = len(str(num))\n",
    "    # initialize sum \n",
    "    sum = 0\n",
    "    \n",
    "    temp = num\n",
    "    while temp > 0: \n",
    "        digit = temp % 10 \n",
    "        sum += digit ** order \n",
    "        temp //= 10 \n",
    "    if num == sum: \n",
    "            print(num)"
   ]
  },
  {
   "cell_type": "code",
   "execution_count": 29,
   "id": "c660da01",
   "metadata": {},
   "outputs": [
    {
     "name": "stdout",
     "output_type": "stream",
     "text": [
      "Enter the number:56\n",
      "The sum is 1596\n"
     ]
    }
   ],
   "source": [
    "#7.Write a Python Program to Find the Sum of Natural Numbers \n",
    "num = int(input(\"Enter the number:\")) \n",
    "if num < 0: \n",
    "    print(\"Enter a positive number\")\n",
    "else: \n",
    "    sum = 0 \n",
    "        # use while loop to iterate until zero \n",
    "    while(num > 0): \n",
    "            sum += num \n",
    "            num -= 1 \n",
    "    print(\"The sum is\", sum)"
   ]
  },
  {
   "cell_type": "code",
   "execution_count": null,
   "id": "eb6ed21f",
   "metadata": {},
   "outputs": [],
   "source": []
  }
 ],
 "metadata": {
  "kernelspec": {
   "display_name": "Python 3 (ipykernel)",
   "language": "python",
   "name": "python3"
  },
  "language_info": {
   "codemirror_mode": {
    "name": "ipython",
    "version": 3
   },
   "file_extension": ".py",
   "mimetype": "text/x-python",
   "name": "python",
   "nbconvert_exporter": "python",
   "pygments_lexer": "ipython3",
   "version": "3.9.7"
  }
 },
 "nbformat": 4,
 "nbformat_minor": 5
}
