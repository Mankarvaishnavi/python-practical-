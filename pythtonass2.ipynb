{
 "cells": [
  {
   "cell_type": "markdown",
   "id": "01d197d3",
   "metadata": {},
   "source": [
    "# set A"
   ]
  },
  {
   "cell_type": "code",
   "execution_count": 4,
   "id": "d2d17fa9",
   "metadata": {},
   "outputs": [
    {
     "ename": "IndentationError",
     "evalue": "unexpected indent (Temp/ipykernel_13316/1547787662.py, line 2)",
     "output_type": "error",
     "traceback": [
      "\u001b[1;36m  File \u001b[1;32m\"C:\\Users\\DELL\\AppData\\Local\\Temp/ipykernel_13316/1547787662.py\"\u001b[1;36m, line \u001b[1;32m2\u001b[0m\n\u001b[1;33m    def symmetrical(str1,str2):\u001b[0m\n\u001b[1;37m    ^\u001b[0m\n\u001b[1;31mIndentationError\u001b[0m\u001b[1;31m:\u001b[0m unexpected indent\n"
     ]
    }
   ],
   "source": [
    "#1.Write a python program to check whether the string is Symmetrical or Palindrome\n",
    "  def symmetrical(str1,str2): \n",
    "    if(str1==str2): \n",
    "        print(\"given string is Symmetrical\") \n",
    "    else: \n",
    "        print(\"given string is Not Symmetrical\") \n",
    "    def palindrome(str1,str2): \n",
    "    if(str1==str2[::-1]): \n",
    "        print(\"given string is Palindrome\") \n",
    "    else: \n",
    "    print(\"given string is Not Palindrome\") \n",
    "\n",
    "str=input(\"Enter any string\") \n",
    "size=len(str) \n",
    "mid=size//2\n",
    "if(size%2==0); \n",
    "    str1= str[:mid] \n",
    "    str2=str[mid:]\n",
    "else: \n",
    "    str1=str[:mid]\n",
    "    str2=str[mid+1:] \n",
    "symmetrical(str1,str2) \n",
    "palindrome(str1,str2)"
   ]
  },
  {
   "cell_type": "code",
   "execution_count": 5,
   "id": "6f140339",
   "metadata": {},
   "outputs": [
    {
     "name": "stdout",
     "output_type": "stream",
     "text": [
      "programmer python a am I\n"
     ]
    }
   ],
   "source": [
    "#2.Write a python program to Reverse words in a given String \n",
    "string = \"I am a python programmer\" \n",
    "words = string.split() \n",
    "words = list(reversed(words)) \n",
    "print(\" \".join(words))"
   ]
  },
  {
   "cell_type": "code",
   "execution_count": 6,
   "id": "e4dfa2e4",
   "metadata": {},
   "outputs": [
    {
     "name": "stdout",
     "output_type": "stream",
     "text": [
      "Pythnisgood\n"
     ]
    }
   ],
   "source": [
    "#3.Write a python program to remove i’th character from string in different ways \n",
    "def remove_char(s, i):\n",
    "    a = s[ : i] \n",
    "    b = s[i + 1: ] \n",
    "    \n",
    "    return a+b \n",
    "\n",
    "string = \"Pythonisgood\" \n",
    "# Remove ith index element\n",
    "i = 5 \n",
    "print(remove_char(string,i-1))"
   ]
  },
  {
   "cell_type": "markdown",
   "id": "73a08efe",
   "metadata": {},
   "source": [
    "SET A(Functions)"
   ]
  },
  {
   "cell_type": "code",
   "execution_count": 7,
   "id": "1ebc6f84",
   "metadata": {},
   "outputs": [
    {
     "name": "stdout",
     "output_type": "stream",
     "text": [
      "Enter first number: 4\n",
      "Enter second number: 6\n",
      "Enter Third number: 9\n",
      "Largest number among the three is 9\n"
     ]
    }
   ],
   "source": [
    "#1.Write a Python function to find the Max of three numbers. \n",
    "n1=int(input(\"Enter first number: \")); \n",
    "n2=int(input(\"Enter second number: \")); \n",
    "n3=int(input(\"Enter Third number: \")); \n",
    "def max(): \n",
    "    if(n1>=n2) and (n1>=n3): \n",
    "        l=n1 \n",
    "    elif(n2>=n1) and (n2>=n3): \n",
    "        l=n2 \n",
    "    else: \n",
    "        l=n3 \n",
    "    print(\"Largest number among the three is\",l) \n",
    "max()"
   ]
  },
  {
   "cell_type": "code",
   "execution_count": 8,
   "id": "04bb1817",
   "metadata": {},
   "outputs": [
    {
     "name": "stdout",
     "output_type": "stream",
     "text": [
      "20\n"
     ]
    }
   ],
   "source": [
    "#2.Write a Python function to sum all the numbers in a list. \n",
    "def sum(numbers): \n",
    "    total = 0 \n",
    "    for x in numbers: \n",
    "        total += x \n",
    "    return total \n",
    "print(sum((8, 2, 3, 0, 7)))"
   ]
  },
  {
   "cell_type": "code",
   "execution_count": 10,
   "id": "367996b3",
   "metadata": {},
   "outputs": [
    {
     "name": "stdout",
     "output_type": "stream",
     "text": [
      "The original string is :  Hello I am vaishnavi\n",
      "The reversed string using extended slice operator is :  ivanhsiav ma I olleH\n"
     ]
    }
   ],
   "source": [
    "#3.Write a Python program to reverse a string. \n",
    "def reverse(str): \n",
    "    str = str[::-1]\n",
    "    return str \n",
    "s = \"Hello I am vaishnavi\" \n",
    "print (\"The original string is : \",s) \n",
    "print (\"The reversed string using extended slice operator is : \",reverse(s))"
   ]
  },
  {
   "cell_type": "markdown",
   "id": "ab394991",
   "metadata": {},
   "source": [
    "SET B(Strings)"
   ]
  },
  {
   "cell_type": "code",
   "execution_count": 12,
   "id": "6c9af06f",
   "metadata": {},
   "outputs": [
    {
     "name": "stdout",
     "output_type": "stream",
     "text": [
      "Hello I am vaishnavi\n",
      "am\n"
     ]
    }
   ],
   "source": [
    "#1.Write a python program to print even length words in a string \n",
    "def printWords(s): \n",
    "    print(s) \n",
    "    s = s.split(' ') \n",
    "    for word in s: \n",
    "        if len(word)%2==0: \n",
    "            print(word) \n",
    "        \n",
    "    s = \"i am Vaishnavi\" \n",
    "printWords(s)"
   ]
  },
  {
   "cell_type": "code",
   "execution_count": 15,
   "id": "9046f5a7",
   "metadata": {},
   "outputs": [
    {
     "ename": "NameError",
     "evalue": "name '_name_' is not defined",
     "output_type": "error",
     "traceback": [
      "\u001b[1;31m---------------------------------------------------------------------------\u001b[0m",
      "\u001b[1;31mNameError\u001b[0m                                 Traceback (most recent call last)",
      "\u001b[1;32m~\\AppData\\Local\\Temp/ipykernel_13316/4250699718.py\u001b[0m in \u001b[0;36m<module>\u001b[1;34m\u001b[0m\n\u001b[0;32m     10\u001b[0m     \u001b[1;32melse\u001b[0m\u001b[1;33m:\u001b[0m\u001b[1;33m\u001b[0m\u001b[1;33m\u001b[0m\u001b[0m\n\u001b[0;32m     11\u001b[0m         \u001b[1;32mreturn\u001b[0m\u001b[1;33m(\u001b[0m\u001b[1;34m'accepted'\u001b[0m\u001b[1;33m)\u001b[0m\u001b[1;33m\u001b[0m\u001b[1;33m\u001b[0m\u001b[0m\n\u001b[1;32m---> 12\u001b[1;33m \u001b[1;32mif\u001b[0m \u001b[0m_name_\u001b[0m \u001b[1;33m==\u001b[0m \u001b[1;34m\"_main_\"\u001b[0m\u001b[1;33m:\u001b[0m\u001b[1;33m\u001b[0m\u001b[1;33m\u001b[0m\u001b[0m\n\u001b[0m\u001b[0;32m     13\u001b[0m \u001b[1;33m\u001b[0m\u001b[0m\n\u001b[0;32m     14\u001b[0m     \u001b[0mstring\u001b[0m \u001b[1;33m=\u001b[0m \u001b[0minput\u001b[0m\u001b[1;33m(\u001b[0m\u001b[1;34m\"Enter string:\"\u001b[0m\u001b[1;33m)\u001b[0m\u001b[1;33m\u001b[0m\u001b[1;33m\u001b[0m\u001b[0m\n",
      "\u001b[1;31mNameError\u001b[0m: name '_name_' is not defined"
     ]
    }
   ],
   "source": [
    "#2.Write a python program to accept the strings which contains all vowels\n",
    "def check(string): \n",
    "    string = string.replace(' ', '') \n",
    "    string = string.lower() \n",
    "    vowel = [string.count('a'), string.count('e'), \n",
    "             string.count( 'i'), string.count('o'), \n",
    "             string.count('u')] \n",
    "    if vowel.count(0) > 0: \n",
    "        return('not accepted')\n",
    "    else: \n",
    "        return('accepted') \n",
    "if _name_ == \"_main_\":\n",
    "    \n",
    "    string = input(\"Enter string:\")\n",
    "    print(check(string))"
   ]
  },
  {
   "cell_type": "code",
   "execution_count": 16,
   "id": "f51006e4",
   "metadata": {},
   "outputs": [
    {
     "name": "stdout",
     "output_type": "stream",
     "text": [
      "Enter string1:hello\n",
      "Enter string2:hi\n",
      "No. of matching characters are  1\n"
     ]
    }
   ],
   "source": [
    "#3.Write a python program to Count the Number of matching characters in a pair of string \n",
    "import re \n",
    "ip1 = input(\"Enter string1:\") \n",
    "ip2 = input(\"Enter string2:\") \n",
    "c = 0 \n",
    "for i in ip1: \n",
    "    if re.search(i,ip2): \n",
    "        c=c+1 \n",
    "print(\"No. of matching characters are \", c)"
   ]
  },
  {
   "cell_type": "markdown",
   "id": "b13b56d3",
   "metadata": {},
   "source": [
    "SET B (Functions)"
   ]
  },
  {
   "cell_type": "code",
   "execution_count": 17,
   "id": "600cb550",
   "metadata": {},
   "outputs": [
    {
     "name": "stdout",
     "output_type": "stream",
     "text": [
      "[1, 2, 3, 4]\n"
     ]
    }
   ],
   "source": [
    "#1. Write a Python function that takes a list and returns a new list with unique elements of the first list \n",
    "def f(list):\n",
    "    a=set(list) \n",
    "    \n",
    "    print(sorted(a))\n",
    "    \n",
    "f([1,1,1,2,3,4])"
   ]
  },
  {
   "cell_type": "code",
   "execution_count": 18,
   "id": "91cf3613",
   "metadata": {},
   "outputs": [
    {
     "name": "stdout",
     "output_type": "stream",
     "text": [
      "Enter an input number:6\n",
      "6 is not a prime number\n"
     ]
    }
   ],
   "source": [
    "#2.Write a Python function that takes a number as a parameter and check the number is prime or not \n",
    "def PrimeChecker(a): \n",
    "    if a > 1: \n",
    "        for j in range(2, int(a/2) + 1): \n",
    "            if (a % j) == 0: \n",
    "                print(a, \"is not a prime number\") \n",
    "                break \n",
    "        else:\n",
    "            print(a, \"is a prime number\")\n",
    "    else: \n",
    "        print(a, \"is not a prime number\") \n",
    "a = int(input(\"Enter an input number:\")) \n",
    "PrimeChecker(a)"
   ]
  },
  {
   "cell_type": "code",
   "execution_count": 19,
   "id": "48751998",
   "metadata": {},
   "outputs": [
    {
     "name": "stdout",
     "output_type": "stream",
     "text": [
      "Enter any number: 6\n",
      "The number is a Perfect number!\n"
     ]
    }
   ],
   "source": [
    "#3.Write a Python function to check whether a number is perfect or not \n",
    "n = int(input(\"Enter any number: \")) \n",
    "sum1 = 0 \n",
    "for i in range(1, n): \n",
    "    if(n % i == 0): \n",
    "        sum1 = sum1 + i \n",
    "if (sum1 == n): \n",
    "    print(\"The number is a Perfect number!\") \n",
    "else: \n",
    "    print(\"The number is not a Perfect number!\")"
   ]
  },
  {
   "cell_type": "markdown",
   "id": "c9134de8",
   "metadata": {},
   "source": [
    "PROBLEMS FOR PRACTICE"
   ]
  },
  {
   "cell_type": "code",
   "execution_count": 20,
   "id": "91f46f3e",
   "metadata": {},
   "outputs": [
    {
     "name": "stdout",
     "output_type": "stream",
     "text": [
      "[1, 5, 2, 5, 3, 5, 4, 5, 5, 5]\n"
     ]
    }
   ],
   "source": [
    "#1. Write a Python program to append items from a specified list. \n",
    "input = [1, 2, 3, 4, 5]\n",
    "key = 5 \n",
    "\n",
    "result = [] \n",
    "for ele in input: \n",
    "    result.append(ele) \n",
    "    result.append(key) \n",
    "\n",
    "print(result)"
   ]
  },
  {
   "cell_type": "code",
   "execution_count": 21,
   "id": "e7d2373d",
   "metadata": {},
   "outputs": [
    {
     "name": "stdout",
     "output_type": "stream",
     "text": [
      "YES\n"
     ]
    }
   ],
   "source": [
    "#2.Write a python program Check if a Substring is Present in a Given String \n",
    "def check(string, sub_str): \n",
    "    if (string.find(sub_str) == -1): \n",
    "        print(\"NO\") \n",
    "    else: \n",
    "        print(\"YES\") \n",
    " # driver code \n",
    "string = \"Hello Tybcs welcome\" \n",
    "sub_str =\"Tybcs\" \n",
    "check(string, sub_str)"
   ]
  },
  {
   "cell_type": "code",
   "execution_count": 24,
   "id": "517c28b8",
   "metadata": {},
   "outputs": [
    {
     "ename": "NameError",
     "evalue": "name '_name' is not defined",
     "output_type": "error",
     "traceback": [
      "\u001b[1;31m---------------------------------------------------------------------------\u001b[0m",
      "\u001b[1;31mNameError\u001b[0m                                 Traceback (most recent call last)",
      "\u001b[1;32m~\\AppData\\Local\\Temp/ipykernel_13316/1932818136.py\u001b[0m in \u001b[0;36m<module>\u001b[1;34m\u001b[0m\n\u001b[0;32m     12\u001b[0m         \u001b[0mfreq\u001b[0m\u001b[1;33m(\u001b[0m\u001b[0mstr\u001b[0m\u001b[1;33m)\u001b[0m\u001b[1;33m\u001b[0m\u001b[1;33m\u001b[0m\u001b[0m\n\u001b[0;32m     13\u001b[0m \u001b[1;33m\u001b[0m\u001b[0m\n\u001b[1;32m---> 14\u001b[1;33m \u001b[1;32mif\u001b[0m \u001b[0m_name\u001b[0m\u001b[1;33m==\u001b[0m\u001b[1;34m\"_main_\"\u001b[0m\u001b[1;33m:\u001b[0m\u001b[1;33m\u001b[0m\u001b[1;33m\u001b[0m\u001b[0m\n\u001b[0m\u001b[0;32m     15\u001b[0m     \u001b[0mmain\u001b[0m\u001b[1;33m(\u001b[0m\u001b[1;33m)\u001b[0m\u001b[1;33m\u001b[0m\u001b[1;33m\u001b[0m\u001b[0m\n",
      "\u001b[1;31mNameError\u001b[0m: name '_name' is not defined"
     ]
    }
   ],
   "source": [
    "#3.Write a python program Words Frequency in String Shorthands \n",
    "def freq(str): \n",
    "    str = str.split() \n",
    "    str2 = [] \n",
    "    for i in str: \n",
    "        if i not in str2: \n",
    "             str2.append(i) \n",
    "    for i in range(0, len(str2)): \n",
    "        print('Frequency of', str2[i], 'is :', str.count(str2[i])) \n",
    "def main(): \n",
    "        str ='apple mango apple orange orange apple guava mango mango' \n",
    "        freq(str)\n",
    "        \n",
    "if _name==\"_main_\": \n",
    "    main()"
   ]
  },
  {
   "cell_type": "code",
   "execution_count": 25,
   "id": "c1eb2be2",
   "metadata": {},
   "outputs": [
    {
     "ename": "TypeError",
     "evalue": "'list' object is not callable",
     "output_type": "error",
     "traceback": [
      "\u001b[1;31m---------------------------------------------------------------------------\u001b[0m",
      "\u001b[1;31mTypeError\u001b[0m                                 Traceback (most recent call last)",
      "\u001b[1;32m~\\AppData\\Local\\Temp/ipykernel_13316/1586444247.py\u001b[0m in \u001b[0;36m<module>\u001b[1;34m\u001b[0m\n\u001b[0;32m      1\u001b[0m \u001b[1;31m#4.Write a python program Convert Snake case to Pascal case\u001b[0m\u001b[1;33m\u001b[0m\u001b[1;33m\u001b[0m\u001b[0m\n\u001b[1;32m----> 2\u001b[1;33m \u001b[0mstr1\u001b[0m\u001b[1;33m=\u001b[0m\u001b[0minput\u001b[0m\u001b[1;33m(\u001b[0m\u001b[1;34m\"Enter any string\"\u001b[0m\u001b[1;33m)\u001b[0m\u001b[1;33m\u001b[0m\u001b[1;33m\u001b[0m\u001b[0m\n\u001b[0m\u001b[0;32m      3\u001b[0m \u001b[0mnewstr1\u001b[0m\u001b[1;33m=\u001b[0m\u001b[0mstr1\u001b[0m\u001b[1;33m.\u001b[0m\u001b[0mreplace\u001b[0m\u001b[1;33m(\u001b[0m\u001b[1;34m'_'\u001b[0m\u001b[1;33m,\u001b[0m\u001b[1;34m' '\u001b[0m\u001b[1;33m)\u001b[0m\u001b[1;33m\u001b[0m\u001b[1;33m\u001b[0m\u001b[0m\n\u001b[0;32m      4\u001b[0m \u001b[0mprint\u001b[0m\u001b[1;33m(\u001b[0m\u001b[0mstr1\u001b[0m\u001b[1;33m)\u001b[0m\u001b[1;33m\u001b[0m\u001b[1;33m\u001b[0m\u001b[0m\n\u001b[0;32m      5\u001b[0m \u001b[0mprint\u001b[0m\u001b[1;33m(\u001b[0m\u001b[0mnewstr1\u001b[0m\u001b[1;33m)\u001b[0m\u001b[1;33m\u001b[0m\u001b[1;33m\u001b[0m\u001b[0m\n",
      "\u001b[1;31mTypeError\u001b[0m: 'list' object is not callable"
     ]
    }
   ],
   "source": [
    "#4.Write a python program Convert Snake case to Pascal case \n",
    "str1=input(\"Enter any string\") \n",
    "newstr1=str1.replace('_',' ') \n",
    "print(str1) \n",
    "print(newstr1)"
   ]
  },
  {
   "cell_type": "code",
   "execution_count": 28,
   "id": "1f2caa12",
   "metadata": {},
   "outputs": [
    {
     "ename": "SyntaxError",
     "evalue": "invalid syntax (Temp/ipykernel_13316/76675609.py, line 4)",
     "output_type": "error",
     "traceback": [
      "\u001b[1;36m  File \u001b[1;32m\"C:\\Users\\DELL\\AppData\\Local\\Temp/ipykernel_13316/76675609.py\"\u001b[1;36m, line \u001b[1;32m4\u001b[0m\n\u001b[1;33m    return 1 if (n==1 or n==0)\u001b[0m\n\u001b[1;37m                              ^\u001b[0m\n\u001b[1;31mSyntaxError\u001b[0m\u001b[1;31m:\u001b[0m invalid syntax\n"
     ]
    }
   ],
   "source": [
    "#5.Write a Python function to calculate the factorial of a number (a non-negative integer). The functionaccepts the number\n",
    "#as an argument \n",
    "def factorial(n):\n",
    "    return 1 if (n==1 or n==0)\n",
    "else n * factorial(n - 1);\n",
    "num = int(input(\"Enter any number: \"))\n",
    "print(\"Factorial of\",num,\"is\",\n",
    "factorial(num))"
   ]
  },
  {
   "cell_type": "code",
   "execution_count": 31,
   "id": "d78f92ab",
   "metadata": {},
   "outputs": [
    {
     "ename": "SyntaxError",
     "evalue": "invalid syntax (Temp/ipykernel_13316/2659757122.py, line 5)",
     "output_type": "error",
     "traceback": [
      "\u001b[1;36m  File \u001b[1;32m\"C:\\Users\\DELL\\AppData\\Local\\Temp/ipykernel_13316/2659757122.py\"\u001b[1;36m, line \u001b[1;32m5\u001b[0m\n\u001b[1;33m    in range(start,end)\u001b[0m\n\u001b[1;37m    ^\u001b[0m\n\u001b[1;31mSyntaxError\u001b[0m\u001b[1;31m:\u001b[0m invalid syntax\n"
     ]
    }
   ],
   "source": [
    "#6.Write a Python function to check whether a number is in a given \n",
    "start=(int(input(\"Enter any number1: \"))) \n",
    "end=(int(input(\"Enter any number2: \"))) \n",
    "is_between =(int(input(\"Enter any number: \"))) \n",
    "in range(start,end) \n",
    "print(is_between)"
   ]
  },
  {
   "cell_type": "code",
   "execution_count": 33,
   "id": "65c2b41e",
   "metadata": {},
   "outputs": [],
   "source": [
    "#7.Write a Python function that accepts a string and calculate the number of upper case letters and lower case \n",
    "def string_test(s): \n",
    "    d={\"UPPER_CASE\":0, \"LOWER_CASE\":0} \n",
    "    for c in s: \n",
    "        if c.isupper(): \n",
    "            d[\"UPPER_CASE\"]+=1 \n",
    "        elif c.islower(): \n",
    "            d[\"LOWER_CASE\"]+=1 \n",
    "        else: \n",
    "            pass \n",
    "    print (\"Original String : \", s) \n",
    "    print (\"No. of Upper case characters : \", d[\"UPPER_CASE\"]) \n",
    "    print (\"No. of Lower case Characters : \", d[\"LOWER_CASE\"]) \n",
    "    string_test(input(\"Enter any string:\"))"
   ]
  },
  {
   "cell_type": "code",
   "execution_count": 34,
   "id": "24e52496",
   "metadata": {},
   "outputs": [
    {
     "ename": "AttributeError",
     "evalue": "'function' object has no attribute '_code_'",
     "output_type": "error",
     "traceback": [
      "\u001b[1;31m---------------------------------------------------------------------------\u001b[0m",
      "\u001b[1;31mAttributeError\u001b[0m                            Traceback (most recent call last)",
      "\u001b[1;32m~\\AppData\\Local\\Temp/ipykernel_13316/1809153006.py\u001b[0m in \u001b[0;36m<module>\u001b[1;34m\u001b[0m\n\u001b[0;32m      6\u001b[0m     \u001b[0mstr\u001b[0m \u001b[1;33m=\u001b[0m \u001b[1;34m'Python'\u001b[0m\u001b[1;33m\u001b[0m\u001b[1;33m\u001b[0m\u001b[0m\n\u001b[0;32m      7\u001b[0m \u001b[1;33m\u001b[0m\u001b[0m\n\u001b[1;32m----> 8\u001b[1;33m \u001b[0mprint\u001b[0m\u001b[1;33m(\u001b[0m\u001b[1;34m\"Number of local varibales available:\"\u001b[0m\u001b[1;33m,\u001b[0m\u001b[0mscope\u001b[0m\u001b[1;33m.\u001b[0m\u001b[0m_code_\u001b[0m\u001b[1;33m.\u001b[0m\u001b[0mco_nlocals\u001b[0m\u001b[1;33m)\u001b[0m\u001b[1;33m\u001b[0m\u001b[1;33m\u001b[0m\u001b[0m\n\u001b[0m",
      "\u001b[1;31mAttributeError\u001b[0m: 'function' object has no attribute '_code_'"
     ]
    }
   ],
   "source": [
    "#8. Write a Python program to detect the number of local variables declared in a function. \n",
    "def scope(): \n",
    "    a = 17 \n",
    "    b = 9 \n",
    "    c = 2000 \n",
    "    str = 'Python' \n",
    "    \n",
    "print(\"Number of local varibales available:\",scope._code_.co_nlocals)"
   ]
  },
  {
   "cell_type": "code",
   "execution_count": 37,
   "id": "92b61d9c",
   "metadata": {},
   "outputs": [
    {
     "ename": "TypeError",
     "evalue": "'list' object is not callable",
     "output_type": "error",
     "traceback": [
      "\u001b[1;31m---------------------------------------------------------------------------\u001b[0m",
      "\u001b[1;31mTypeError\u001b[0m                                 Traceback (most recent call last)",
      "\u001b[1;32m~\\AppData\\Local\\Temp/ipykernel_13316/2342442996.py\u001b[0m in \u001b[0;36m<module>\u001b[1;34m\u001b[0m\n\u001b[0;32m      8\u001b[0m         \u001b[0mst\u001b[0m \u001b[1;33m=\u001b[0m \u001b[0mst\u001b[0m\u001b[1;33m+\u001b[0m\u001b[0mi\u001b[0m\u001b[1;33m\u001b[0m\u001b[1;33m\u001b[0m\u001b[0m\n\u001b[0;32m      9\u001b[0m     \u001b[1;32mreturn\u001b[0m \u001b[0mst\u001b[0m\u001b[1;33m\u001b[0m\u001b[1;33m\u001b[0m\u001b[0m\n\u001b[1;32m---> 10\u001b[1;33m \u001b[0mstr\u001b[0m \u001b[1;33m=\u001b[0m \u001b[1;33m(\u001b[0m\u001b[0minput\u001b[0m\u001b[1;33m(\u001b[0m\u001b[1;34m\"Enter any string:\"\u001b[0m\u001b[1;33m)\u001b[0m\u001b[1;33m)\u001b[0m\u001b[1;33m\u001b[0m\u001b[1;33m\u001b[0m\u001b[0m\n\u001b[0m\u001b[0;32m     11\u001b[0m \u001b[0mprint\u001b[0m\u001b[1;33m(\u001b[0m\u001b[0mstr\u001b[0m\u001b[1;33m)\u001b[0m\u001b[1;33m\u001b[0m\u001b[1;33m\u001b[0m\u001b[0m\n\u001b[0;32m     12\u001b[0m \u001b[0mn\u001b[0m \u001b[1;33m=\u001b[0m \u001b[0mlen\u001b[0m\u001b[1;33m(\u001b[0m\u001b[0mstr\u001b[0m\u001b[1;33m)\u001b[0m\u001b[1;33m\u001b[0m\u001b[1;33m\u001b[0m\u001b[0m\n",
      "\u001b[1;31mTypeError\u001b[0m: 'list' object is not callable"
     ]
    }
   ],
   "source": [
    "#9.Write a python program to Remove all duplicates from a given string in Python \n",
    "def removeDuplicate(str, n): \n",
    "    s = set() \n",
    "    for i in str: \n",
    "        s.add(i) \n",
    "    st = \"\" \n",
    "    for i in s: \n",
    "        st = st+i \n",
    "    return st \n",
    "str = (input(\"Enter any string:\")) \n",
    "print(str) \n",
    "n = len(str) \n",
    "print(removeDuplicate(list(str), n))"
   ]
  },
  {
   "cell_type": "code",
   "execution_count": 38,
   "id": "709acb71",
   "metadata": {},
   "outputs": [
    {
     "ename": "TypeError",
     "evalue": "'list' object is not callable",
     "output_type": "error",
     "traceback": [
      "\u001b[1;31m---------------------------------------------------------------------------\u001b[0m",
      "\u001b[1;31mTypeError\u001b[0m                                 Traceback (most recent call last)",
      "\u001b[1;32m~\\AppData\\Local\\Temp/ipykernel_13316/1900295630.py\u001b[0m in \u001b[0;36m<module>\u001b[1;34m\u001b[0m\n\u001b[0;32m      2\u001b[0m \u001b[1;32mdef\u001b[0m \u001b[0misPalindrome\u001b[0m\u001b[1;33m(\u001b[0m\u001b[0ms\u001b[0m\u001b[1;33m)\u001b[0m\u001b[1;33m:\u001b[0m\u001b[1;33m\u001b[0m\u001b[1;33m\u001b[0m\u001b[0m\n\u001b[0;32m      3\u001b[0m     \u001b[1;32mreturn\u001b[0m \u001b[0mstring\u001b[0m \u001b[1;33m==\u001b[0m \u001b[0mstring\u001b[0m\u001b[1;33m[\u001b[0m\u001b[1;33m:\u001b[0m\u001b[1;33m:\u001b[0m\u001b[1;33m-\u001b[0m\u001b[1;36m1\u001b[0m\u001b[1;33m]\u001b[0m\u001b[1;33m\u001b[0m\u001b[1;33m\u001b[0m\u001b[0m\n\u001b[1;32m----> 4\u001b[1;33m \u001b[0mstring\u001b[0m \u001b[1;33m=\u001b[0m \u001b[1;33m(\u001b[0m\u001b[0minput\u001b[0m\u001b[1;33m(\u001b[0m\u001b[1;34m\"Enter any string:\"\u001b[0m\u001b[1;33m)\u001b[0m\u001b[1;33m)\u001b[0m\u001b[1;33m\u001b[0m\u001b[1;33m\u001b[0m\u001b[0m\n\u001b[0m\u001b[0;32m      5\u001b[0m \u001b[0mans\u001b[0m \u001b[1;33m=\u001b[0m \u001b[0misPalindrome\u001b[0m\u001b[1;33m(\u001b[0m\u001b[0mstring\u001b[0m\u001b[1;33m)\u001b[0m\u001b[1;33m\u001b[0m\u001b[1;33m\u001b[0m\u001b[0m\n\u001b[0;32m      6\u001b[0m \u001b[0mprint\u001b[0m\u001b[1;33m(\u001b[0m\u001b[0mstring\u001b[0m\u001b[1;33m)\u001b[0m\u001b[1;33m\u001b[0m\u001b[1;33m\u001b[0m\u001b[0m\n",
      "\u001b[1;31mTypeError\u001b[0m: 'list' object is not callable"
     ]
    }
   ],
   "source": [
    "#10.Write a Python function that checks whether a passed string is palindrome or \n",
    "def isPalindrome(s): \n",
    "    return string == string[::-1] \n",
    "string = (input(\"Enter any string:\")) \n",
    "ans = isPalindrome(string) \n",
    "print(string) \n",
    "if ans: \n",
    "    print(\"given string is palindrome\") \n",
    "else:\n",
    "    print(\"given string is not palindrome\")"
   ]
  },
  {
   "cell_type": "code",
   "execution_count": 39,
   "id": "d992ba6e",
   "metadata": {},
   "outputs": [
    {
     "ename": "SyntaxError",
     "evalue": "invalid syntax (Temp/ipykernel_13316/2047564432.py, line 5)",
     "output_type": "error",
     "traceback": [
      "\u001b[1;36m  File \u001b[1;32m\"C:\\Users\\DELL\\AppData\\Local\\Temp/ipykernel_13316/2047564432.py\"\u001b[1;36m, line \u001b[1;32m5\u001b[0m\n\u001b[1;33m    print(s) s.sort()\u001b[0m\n\u001b[1;37m             ^\u001b[0m\n\u001b[1;31mSyntaxError\u001b[0m\u001b[1;31m:\u001b[0m invalid syntax\n"
     ]
    }
   ],
   "source": [
    "#11.Write a Python program that accepts a hyphen-separated sequence of words as input and prints the words in a \n",
    "#hyphen-separated sequence after sorting them alphabetically. \n",
    "str=input(\"Enter any string:\") \n",
    "s=str.split('-') \n",
    "print(s) s.sort() \n",
    "print(s) \n",
    "print('-'.join(s))"
   ]
  },
  {
   "cell_type": "code",
   "execution_count": 40,
   "id": "8bca13a0",
   "metadata": {},
   "outputs": [
    {
     "name": "stdout",
     "output_type": "stream",
     "text": [
      "[1, 4, 9, 16, 25, 36, 49, 64, 81, 100, 121, 144, 169, 196, 225, 256, 289, 324, 361, 400, 441, 484, 529, 576, 625, 676, 729, 784, 841, 900, 961, 1024, 1089, 1156, 1225, 1296, 1369, 1444, 1521, 1600, 1681, 1764, 1849, 1936, 2025, 2116, 2209, 2304, 2401, 2500]\n"
     ]
    }
   ],
   "source": [
    "#12.Write a Python function to create and print a list where the values are square of numbers \n",
    "#between 1 and 50 (both included). \n",
    "def printValues(): \n",
    "    l = list() \n",
    "    for i in range(1,51): \n",
    "        l.append(i**2) \n",
    "    print(l)\n",
    "printValues()"
   ]
  },
  {
   "cell_type": "code",
   "execution_count": 41,
   "id": "6b8025dd",
   "metadata": {},
   "outputs": [
    {
     "ename": "TypeError",
     "evalue": "'list' object is not callable",
     "output_type": "error",
     "traceback": [
      "\u001b[1;31m---------------------------------------------------------------------------\u001b[0m",
      "\u001b[1;31mTypeError\u001b[0m                                 Traceback (most recent call last)",
      "\u001b[1;32m~\\AppData\\Local\\Temp/ipykernel_13316/395835250.py\u001b[0m in \u001b[0;36m<module>\u001b[1;34m\u001b[0m\n\u001b[0;32m      1\u001b[0m \u001b[1;31m#13.Write a Python program to execute a string containing Python code.\u001b[0m\u001b[1;33m\u001b[0m\u001b[1;33m\u001b[0m\u001b[0m\n\u001b[1;32m----> 2\u001b[1;33m \u001b[0mmy_string\u001b[0m \u001b[1;33m=\u001b[0m\u001b[0minput\u001b[0m\u001b[1;33m(\u001b[0m\u001b[1;34m\"Enter any string:\"\u001b[0m\u001b[1;33m)\u001b[0m\u001b[1;33m\u001b[0m\u001b[1;33m\u001b[0m\u001b[0m\n\u001b[0m\u001b[0;32m      3\u001b[0m \u001b[0mprint\u001b[0m\u001b[1;33m(\u001b[0m\u001b[0mmy_string\u001b[0m\u001b[1;33m)\u001b[0m\u001b[1;33m\u001b[0m\u001b[1;33m\u001b[0m\u001b[0m\n",
      "\u001b[1;31mTypeError\u001b[0m: 'list' object is not callable"
     ]
    }
   ],
   "source": [
    "#13.Write a Python program to execute a string containing Python code. \n",
    "my_string =input(\"Enter any string:\") \n",
    "print(my_string)"
   ]
  },
  {
   "cell_type": "code",
   "execution_count": 42,
   "id": "486d31b0",
   "metadata": {},
   "outputs": [
    {
     "ename": "TypeError",
     "evalue": "'list' object is not callable",
     "output_type": "error",
     "traceback": [
      "\u001b[1;31m---------------------------------------------------------------------------\u001b[0m",
      "\u001b[1;31mTypeError\u001b[0m                                 Traceback (most recent call last)",
      "\u001b[1;32m~\\AppData\\Local\\Temp/ipykernel_13316/1520066153.py\u001b[0m in \u001b[0;36m<module>\u001b[1;34m\u001b[0m\n\u001b[0;32m      6\u001b[0m                 \u001b[1;32mreturn\u001b[0m \u001b[0ma\u001b[0m\u001b[1;33m+\u001b[0m\u001b[0mb\u001b[0m\u001b[1;33m\u001b[0m\u001b[1;33m\u001b[0m\u001b[0m\n\u001b[0;32m      7\u001b[0m         \u001b[1;32mreturn\u001b[0m \u001b[0madd\u001b[0m\u001b[1;33m\u001b[0m\u001b[1;33m\u001b[0m\u001b[0m\n\u001b[1;32m----> 8\u001b[1;33m \u001b[0mfunc\u001b[0m\u001b[1;33m=\u001b[0m \u001b[0mfunction\u001b[0m\u001b[1;33m(\u001b[0m\u001b[0mint\u001b[0m\u001b[1;33m(\u001b[0m\u001b[0minput\u001b[0m\u001b[1;33m(\u001b[0m\u001b[1;34m\"Enter any number: \"\u001b[0m\u001b[1;33m)\u001b[0m\u001b[1;33m)\u001b[0m\u001b[1;33m)\u001b[0m\u001b[1;33m\u001b[0m\u001b[1;33m\u001b[0m\u001b[0m\n\u001b[0m\u001b[0;32m      9\u001b[0m \u001b[0mprint\u001b[0m\u001b[1;33m(\u001b[0m\u001b[0mfunc\u001b[0m\u001b[1;33m(\u001b[0m\u001b[0mint\u001b[0m\u001b[1;33m(\u001b[0m\u001b[0minput\u001b[0m\u001b[1;33m(\u001b[0m\u001b[1;34m\"Enter any number: \"\u001b[0m\u001b[1;33m)\u001b[0m\u001b[1;33m)\u001b[0m\u001b[1;33m)\u001b[0m\u001b[1;33m)\u001b[0m\u001b[1;33m\u001b[0m\u001b[1;33m\u001b[0m\u001b[0m\n",
      "\u001b[1;31mTypeError\u001b[0m: 'list' object is not callable"
     ]
    }
   ],
   "source": [
    "#14.Write a Python program to access a function inside a function. \n",
    "def function(a): \n",
    "        def add(b): \n",
    "                nonlocal a \n",
    "                a += 1 \n",
    "                return a+b \n",
    "        return add \n",
    "func= function(int(input(\"Enter any number: \")))\n",
    "print(func(int(input(\"Enter any number: \"))))"
   ]
  },
  {
   "cell_type": "code",
   "execution_count": null,
   "id": "02e192c4",
   "metadata": {},
   "outputs": [],
   "source": []
  }
 ],
 "metadata": {
  "kernelspec": {
   "display_name": "Python 3 (ipykernel)",
   "language": "python",
   "name": "python3"
  },
  "language_info": {
   "codemirror_mode": {
    "name": "ipython",
    "version": 3
   },
   "file_extension": ".py",
   "mimetype": "text/x-python",
   "name": "python",
   "nbconvert_exporter": "python",
   "pygments_lexer": "ipython3",
   "version": "3.9.7"
  }
 },
 "nbformat": 4,
 "nbformat_minor": 5
}
