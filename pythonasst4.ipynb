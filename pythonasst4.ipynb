{
 "cells": [
  {
   "cell_type": "markdown",
   "id": "b335b81b",
   "metadata": {},
   "source": [
    "SET A"
   ]
  },
  {
   "cell_type": "code",
   "execution_count": null,
   "id": "ec4e4aa8",
   "metadata": {},
   "outputs": [],
   "source": [
    "#1. Write a Python program to read an entire text file.\n",
    "def file_read(sample):\n",
    "    txt = open(sample)\n",
    "    print(txt.read())\n",
    "\n",
    "file_read(\"sample.txt\")"
   ]
  },
  {
   "cell_type": "code",
   "execution_count": null,
   "id": "cbef2f5a",
   "metadata": {},
   "outputs": [],
   "source": [
    "#2. Write a Python program to compute the number of characters, words and lines in a file.\n",
    "file = open(\"sample.txt\",\"r\")\n",
    "\n",
    "no_of_lines = 0\n",
    "no_of_words = 0\n",
    "no_of_char = 0\n",
    "\n",
    "for line in file:\n",
    "    line = line.strip(\"\\n\")   \n",
    "    words = line.split()\n",
    "\n",
    "    no_of_lines += 1\n",
    "    no_of_words += len(words)\n",
    "    no_of_char += len(line)\n",
    "\n",
    "file.close()\n",
    "print(\"lines:\", no_of_lines, \"words:\", no_of_words, \"char:\", no_of_char)"
   ]
  },
  {
   "cell_type": "code",
   "execution_count": 3,
   "id": "d2928f3d",
   "metadata": {},
   "outputs": [
    {
     "name": "stdout",
     "output_type": "stream",
     "text": [
      "Mon Feb 28 06:51:14 India Standard Time 2022\n"
     ]
    }
   ],
   "source": [
    "#3. Write a Python script to print the current date in following format “Sun May 29 02:26:23\n",
    "#IST 2017”\n",
    "import time\n",
    "ltime = time.localtime()\n",
    "print(time.strftime(\"%a %b %d %H:%M:%S %Z %Y\", ltime))"
   ]
  },
  {
   "cell_type": "markdown",
   "id": "49c71d06",
   "metadata": {},
   "source": [
    "SET B"
   ]
  },
  {
   "cell_type": "code",
   "execution_count": 4,
   "id": "870fa1b7",
   "metadata": {},
   "outputs": [
    {
     "name": "stdout",
     "output_type": "stream",
     "text": [
      "\n",
      " welcome to python practical\n"
     ]
    }
   ],
   "source": [
    "#1. Write a Python program to append text to a file and display the text.\n",
    "testfile = open(\"sample.txt\", \"a\")\n",
    "\n",
    "testfile.write(\"\\n welcome to python practical\")\n",
    "testfile.close()\n",
    "\n",
    "appended_file = open(\"sample.txt\", \"r\")\n",
    "print(appended_file.read())"
   ]
  },
  {
   "cell_type": "code",
   "execution_count": 5,
   "id": "01046a30",
   "metadata": {},
   "outputs": [
    {
     "name": "stdout",
     "output_type": "stream",
     "text": [
      "done\n"
     ]
    }
   ],
   "source": [
    "#2. Write a Python program to print each line of a file in reverse order.\n",
    "f1 = open(\"sample.txt\", \"w\")\n",
    "\n",
    "with open(\"sample.txt\", \"r\") as myfile:\n",
    "\tdata = myfile.read()\n",
    "data_1 = data[::-1]\n",
    "f1.write(data_1)\n",
    "f1.close()\n",
    "print(\"done\")"
   ]
  },
  {
   "cell_type": "code",
   "execution_count": 6,
   "id": "96a0a013",
   "metadata": {},
   "outputs": [
    {
     "name": "stdout",
     "output_type": "stream",
     "text": [
      "Current date and time : \n",
      "28-02-2022 06:51:50\n"
     ]
    }
   ],
   "source": [
    "#3. Write a Python program to print date, time for today and now\n",
    "import datetime\n",
    "\n",
    "now = datetime.datetime.now()\n",
    "print(\"Current date and time : \")\n",
    "print(now.strftime(\"%d-%m-%Y %H:%M:%S\"))"
   ]
  },
  {
   "cell_type": "markdown",
   "id": "7fc8c1d6",
   "metadata": {},
   "source": [
    "PROGRAMS FOR PRACTICE:"
   ]
  },
  {
   "cell_type": "code",
   "execution_count": null,
   "id": "b62e0e8d",
   "metadata": {},
   "outputs": [],
   "source": [
    "#1. Write a Python program to read an entire text file.\n",
    "def file_read(fname):\n",
    "        txt = open(fname)\n",
    "        print(txt.read())\n",
    "\n",
    "file_read('sample1.txt')\n",
    "print(\"done\")"
   ]
  },
  {
   "cell_type": "code",
   "execution_count": 8,
   "id": "347693a9",
   "metadata": {},
   "outputs": [
    {
     "ename": "FileNotFoundError",
     "evalue": "[Errno 2] No such file or directory: 'sample1.txt'",
     "output_type": "error",
     "traceback": [
      "\u001b[1;31m---------------------------------------------------------------------------\u001b[0m",
      "\u001b[1;31mFileNotFoundError\u001b[0m                         Traceback (most recent call last)",
      "\u001b[1;32m~\\AppData\\Local\\Temp/ipykernel_23180/1685895774.py\u001b[0m in \u001b[0;36m<module>\u001b[1;34m\u001b[0m\n\u001b[0;32m      5\u001b[0m                 \u001b[1;32mfor\u001b[0m \u001b[0mline\u001b[0m \u001b[1;32min\u001b[0m \u001b[0mislice\u001b[0m\u001b[1;33m(\u001b[0m\u001b[0mf\u001b[0m\u001b[1;33m,\u001b[0m \u001b[0mnlines\u001b[0m\u001b[1;33m)\u001b[0m\u001b[1;33m:\u001b[0m\u001b[1;33m\u001b[0m\u001b[1;33m\u001b[0m\u001b[0m\n\u001b[0;32m      6\u001b[0m                         \u001b[0mprint\u001b[0m\u001b[1;33m(\u001b[0m\u001b[0mline\u001b[0m\u001b[1;33m)\u001b[0m\u001b[1;33m\u001b[0m\u001b[1;33m\u001b[0m\u001b[0m\n\u001b[1;32m----> 7\u001b[1;33m \u001b[0mfile_read_from_head\u001b[0m\u001b[1;33m(\u001b[0m\u001b[1;34m'sample1.txt'\u001b[0m\u001b[1;33m,\u001b[0m\u001b[1;36m2\u001b[0m\u001b[1;33m)\u001b[0m\u001b[1;33m\u001b[0m\u001b[1;33m\u001b[0m\u001b[0m\n\u001b[0m\u001b[0;32m      8\u001b[0m \u001b[0mprint\u001b[0m\u001b[1;33m(\u001b[0m\u001b[1;34m\"done\"\u001b[0m\u001b[1;33m)\u001b[0m\u001b[1;33m\u001b[0m\u001b[1;33m\u001b[0m\u001b[0m\n",
      "\u001b[1;32m~\\AppData\\Local\\Temp/ipykernel_23180/1685895774.py\u001b[0m in \u001b[0;36mfile_read_from_head\u001b[1;34m(fname, nlines)\u001b[0m\n\u001b[0;32m      2\u001b[0m \u001b[1;32mdef\u001b[0m \u001b[0mfile_read_from_head\u001b[0m\u001b[1;33m(\u001b[0m\u001b[0mfname\u001b[0m\u001b[1;33m,\u001b[0m \u001b[0mnlines\u001b[0m\u001b[1;33m)\u001b[0m\u001b[1;33m:\u001b[0m\u001b[1;33m\u001b[0m\u001b[1;33m\u001b[0m\u001b[0m\n\u001b[0;32m      3\u001b[0m         \u001b[1;32mfrom\u001b[0m \u001b[0mitertools\u001b[0m \u001b[1;32mimport\u001b[0m \u001b[0mislice\u001b[0m\u001b[1;33m\u001b[0m\u001b[1;33m\u001b[0m\u001b[0m\n\u001b[1;32m----> 4\u001b[1;33m         \u001b[1;32mwith\u001b[0m \u001b[0mopen\u001b[0m\u001b[1;33m(\u001b[0m\u001b[0mfname\u001b[0m\u001b[1;33m)\u001b[0m \u001b[1;32mas\u001b[0m \u001b[0mf\u001b[0m\u001b[1;33m:\u001b[0m\u001b[1;33m\u001b[0m\u001b[1;33m\u001b[0m\u001b[0m\n\u001b[0m\u001b[0;32m      5\u001b[0m                 \u001b[1;32mfor\u001b[0m \u001b[0mline\u001b[0m \u001b[1;32min\u001b[0m \u001b[0mislice\u001b[0m\u001b[1;33m(\u001b[0m\u001b[0mf\u001b[0m\u001b[1;33m,\u001b[0m \u001b[0mnlines\u001b[0m\u001b[1;33m)\u001b[0m\u001b[1;33m:\u001b[0m\u001b[1;33m\u001b[0m\u001b[1;33m\u001b[0m\u001b[0m\n\u001b[0;32m      6\u001b[0m                         \u001b[0mprint\u001b[0m\u001b[1;33m(\u001b[0m\u001b[0mline\u001b[0m\u001b[1;33m)\u001b[0m\u001b[1;33m\u001b[0m\u001b[1;33m\u001b[0m\u001b[0m\n",
      "\u001b[1;31mFileNotFoundError\u001b[0m: [Errno 2] No such file or directory: 'sample1.txt'"
     ]
    }
   ],
   "source": [
    "#2. Write a Python program to read first n lines of a file.\n",
    "def file_read_from_head(fname, nlines):\n",
    "        from itertools import islice\n",
    "        with open(fname) as f:\n",
    "                for line in islice(f, nlines):\n",
    "                        print(line)\n",
    "file_read_from_head('sample1.txt',2)\n",
    "print(\"done\")"
   ]
  },
  {
   "cell_type": "code",
   "execution_count": 9,
   "id": "10ff6787",
   "metadata": {},
   "outputs": [
    {
     "name": "stdout",
     "output_type": "stream",
     "text": [
      "Python practical\n",
      "Assignment 4\n"
     ]
    }
   ],
   "source": [
    "#3. Write a Python program to append text to a file and display the text.\n",
    "def file_read(fname):\n",
    "        from itertools import islice\n",
    "        with open(fname, \"w\") as myfile:\n",
    "                myfile.write(\"Python practical\\n\")\n",
    "                myfile.write(\"Assignment 4\")\n",
    "        txt = open(fname)\n",
    "        print(txt.read())\n",
    "file_read('sample1.txt')"
   ]
  },
  {
   "cell_type": "code",
   "execution_count": 10,
   "id": "65e20a4a",
   "metadata": {},
   "outputs": [
    {
     "name": "stdout",
     "output_type": "stream",
     "text": [
      "Python practical\n",
      "Assignment 4"
     ]
    }
   ],
   "source": [
    "#4. Write a Python program to read last n lines of a file.\n",
    "def LastNlines(fname, N):\n",
    "    with open(fname) as file:\n",
    "        for line in (file.readlines() [-N:]):\n",
    "            print(line, end ='')\n",
    "if __name__ == '__main__':\n",
    "    fname = 'sample1.txt'\n",
    "    N = 3\n",
    "    try:\n",
    "        LastNlines(fname, N)\n",
    "    except:\n",
    "        print('File not found')"
   ]
  },
  {
   "cell_type": "code",
   "execution_count": 11,
   "id": "4d233104",
   "metadata": {},
   "outputs": [
    {
     "name": "stdout",
     "output_type": "stream",
     "text": [
      "['Python practical\\n', 'Assignment 4']\n"
     ]
    }
   ],
   "source": [
    "#5. Write a Python program to read a file line by line and store it into a list.\n",
    "def file_read(fname):\n",
    "        with open(fname) as f:\n",
    "                content_list = f.readlines()\n",
    "                print(content_list)\n",
    "\n",
    "file_read('sample1.txt')"
   ]
  },
  {
   "cell_type": "code",
   "execution_count": 12,
   "id": "ed6163f2",
   "metadata": {},
   "outputs": [
    {
     "name": "stdout",
     "output_type": "stream",
     "text": [
      "['Python practical\\n', 'Assignment 4']\n"
     ]
    }
   ],
   "source": [
    "#6. Write a Python program to read a file line by line store it into a variable.\n",
    "def file_read(fname):\n",
    "        with open (fname, \"r\") as myfile:\n",
    "                data=myfile.readlines()\n",
    "                print(data)\n",
    "file_read('sample1.txt')"
   ]
  },
  {
   "cell_type": "code",
   "execution_count": 13,
   "id": "e904e54b",
   "metadata": {},
   "outputs": [
    {
     "name": "stdout",
     "output_type": "stream",
     "text": [
      "['Python practical\\n', 'Assignment 4']\n"
     ]
    }
   ],
   "source": [
    "#7. Write a Python program to read a file line by line store it into an array.\n",
    "def file_read(fname):\n",
    "        content_array = []\n",
    "        with open(fname) as f:\n",
    "                for line in f:\n",
    "                        content_array.append(line)\n",
    "                print(content_array)\n",
    "\n",
    "file_read('sample1.txt')"
   ]
  },
  {
   "cell_type": "code",
   "execution_count": 14,
   "id": "6faa0f88",
   "metadata": {},
   "outputs": [
    {
     "name": "stdout",
     "output_type": "stream",
     "text": [
      "['Assignment']\n"
     ]
    }
   ],
   "source": [
    "#8. Write a python program to find the longest words.\n",
    "def longest_word(filename):\n",
    "    with open(filename, 'r') as infile:\n",
    "              words = infile.read().split()\n",
    "    max_len = len(max(words, key=len))\n",
    "    return [word for word in words if len(word) == max_len]\n",
    "\n",
    "print(longest_word('sample1.txt'))"
   ]
  },
  {
   "cell_type": "code",
   "execution_count": 15,
   "id": "56eefbe6",
   "metadata": {},
   "outputs": [
    {
     "name": "stdout",
     "output_type": "stream",
     "text": [
      "Number of lines in the file:  2\n"
     ]
    }
   ],
   "source": [
    "#9. Write a Python program to count the number of lines in a text file.\n",
    "def file_lengthy(fname):\n",
    "        with open(fname) as f:\n",
    "                for i, l in enumerate(f):\n",
    "                        pass\n",
    "        return i + 1\n",
    "print(\"Number of lines in the file: \",file_lengthy(\"sample1.txt\"))"
   ]
  },
  {
   "cell_type": "code",
   "execution_count": 16,
   "id": "cf92102d",
   "metadata": {},
   "outputs": [
    {
     "name": "stdout",
     "output_type": "stream",
     "text": [
      "Number of words in the file : Counter({'Python': 1, 'practical': 1, 'Assignment': 1, '4': 1})\n"
     ]
    }
   ],
   "source": [
    "#10. Write a Python program to count the frequency of words in a file.\n",
    "from collections import Counter\n",
    "def word_count(fname):\n",
    "        with open(fname) as f:\n",
    "                return Counter(f.read().split())\n",
    "\n",
    "print(\"Number of words in the file :\",word_count(\"sample1.txt\"))"
   ]
  },
  {
   "cell_type": "code",
   "execution_count": 17,
   "id": "db5c7f71",
   "metadata": {},
   "outputs": [
    {
     "name": "stdout",
     "output_type": "stream",
     "text": [
      "File size in bytes of a plain file:  30\n"
     ]
    }
   ],
   "source": [
    "#11. Write a Python program to get the file size of a plain file.\n",
    "def file_size(fname):\n",
    "        import os\n",
    "        statinfo = os.stat(fname)\n",
    "        return statinfo.st_size\n",
    "\n",
    "print(\"File size in bytes of a plain file: \",file_size(\"sample1.txt\"))"
   ]
  },
  {
   "cell_type": "code",
   "execution_count": 18,
   "id": "1a79da6b",
   "metadata": {},
   "outputs": [
    {
     "name": "stdout",
     "output_type": "stream",
     "text": [
      "Red\n",
      "Green\n",
      "White\n",
      "Black\n",
      "Pink\n",
      "Yellow\n",
      "\n"
     ]
    }
   ],
   "source": [
    "#12. Write a Python program to write a list to a file.\n",
    "color = ['Red', 'Green', 'White', 'Black', 'Pink', 'Yellow']\n",
    "with open('abc.txt', \"w\") as myfile:\n",
    "        for c in color:\n",
    "                myfile.write(\"%s\\n\" % c)\n",
    "\n",
    "content = open('abc.txt')\n",
    "print(content.read())"
   ]
  },
  {
   "cell_type": "code",
   "execution_count": 19,
   "id": "5c3f8041",
   "metadata": {},
   "outputs": [
    {
     "name": "stdout",
     "output_type": "stream",
     "text": [
      "Red\n",
      "Green\n",
      "White\n",
      "Black\n",
      "Pink\n",
      "Yellow\n",
      "Blue\n",
      "\n"
     ]
    }
   ],
   "source": [
    "#13. Write a Python program to copy the contents of a file to another file .\n",
    "color = ['Red', 'Green', 'White', 'Black', 'Pink', 'Yellow','Blue']\n",
    "with open('abc.txt', \"w\") as myfile:\n",
    "        for c in color:\n",
    "                myfile.write(\"%s\\n\" % c)\n",
    "\n",
    "content = open('abc.txt')\n",
    "print(content.read())"
   ]
  },
  {
   "cell_type": "code",
   "execution_count": 20,
   "id": "58a33966",
   "metadata": {},
   "outputs": [
    {
     "name": "stdout",
     "output_type": "stream",
     "text": [
      "Red\n",
      "Python practical\n",
      "\n",
      "Green\n",
      "Assignment 4\n"
     ]
    }
   ],
   "source": [
    "#14. Write a Python program to combine each line from first file with the corresponding line in second file\n",
    "with open('abc.txt') as fh1, open('sample1.txt') as fh2:\n",
    "    for line1, line2 in zip(fh1, fh2):\n",
    "        # line1 from abc.txt, line2 from test.txtg\n",
    "        print(line1+line2)\n",
    "\t\t"
   ]
  },
  {
   "cell_type": "code",
   "execution_count": 21,
   "id": "cee873d1",
   "metadata": {},
   "outputs": [
    {
     "name": "stdout",
     "output_type": "stream",
     "text": [
      "Assignment 4\n"
     ]
    }
   ],
   "source": [
    "#15. Write a Python program to remove newline characters from a file\n",
    "import random\n",
    "def random_line(fname):\n",
    "    lines = open(fname).read().splitlines()\n",
    "    return random.choice(lines)\n",
    "print(random_line('sample1.txt'))"
   ]
  },
  {
   "cell_type": "code",
   "execution_count": 22,
   "id": "de8bd33c",
   "metadata": {},
   "outputs": [
    {
     "name": "stdout",
     "output_type": "stream",
     "text": [
      "Python practical\n"
     ]
    }
   ],
   "source": [
    "#16. Write a Python program that takes a text file as input and returns the number of words of a given text file.\n",
    "#Note: Some words can be separated by a comma with no space.\n",
    "import random\n",
    "def random_line(fname):\n",
    "    lines = open(fname).read().splitlines()\n",
    "    return random.choice(lines)\n",
    "print(random_line('sample1.txt'))"
   ]
  },
  {
   "cell_type": "code",
   "execution_count": 23,
   "id": "2a9c5797",
   "metadata": {},
   "outputs": [
    {
     "name": "stdout",
     "output_type": "stream",
     "text": [
      "['Python practical', 'Assignment 4']\n"
     ]
    }
   ],
   "source": [
    "#17. Write a Python program to extract characters from various text files and puts them into a list.\n",
    "def remove_newlines(fname):\n",
    "    flist = open(fname).readlines()\n",
    "    return [s.rstrip('\\n') for s in flist]\n",
    "\n",
    "print(remove_newlines(\"sample1.txt\"))"
   ]
  },
  {
   "cell_type": "code",
   "execution_count": 25,
   "id": "ec3ae4e5",
   "metadata": {},
   "outputs": [
    {
     "name": "stdout",
     "output_type": "stream",
     "text": [
      "INDIA time: 06:55:32\n"
     ]
    }
   ],
   "source": [
    "#18. Write a python program to get Current Time\n",
    "from datetime import *\n",
    "import pytz\n",
    "\n",
    "\n",
    "tz_INDIA = pytz.timezone('Asia/Kolkata')\n",
    "datetime_INDIA = datetime.now(tz_INDIA)\n",
    "print(\"INDIA time:\", datetime_INDIA.strftime(\"%H:%M:%S\"))\n"
   ]
  },
  {
   "cell_type": "code",
   "execution_count": 26,
   "id": "b4044a96",
   "metadata": {},
   "outputs": [
    {
     "name": "stdout",
     "output_type": "stream",
     "text": [
      "Time now  : 2022-02-28 06:55:41.513944\n"
     ]
    }
   ],
   "source": [
    "#19. Get Current Date and Time using Python\n",
    "import datetime\n",
    "current_time = datetime.datetime.now()\n",
    "print (\"Time now  : \", end = \"\")\n",
    "print (current_time)"
   ]
  },
  {
   "cell_type": "code",
   "execution_count": 27,
   "id": "f0971fb2",
   "metadata": {},
   "outputs": [
    {
     "name": "stdout",
     "output_type": "stream",
     "text": [
      "Yesterday =  27-02-2022\n",
      "Today =  28-02-2022\n",
      "Tomorrow =  01-03-2022\n"
     ]
    }
   ],
   "source": [
    "#20. Write a python | Find yesterday’s, today’s and tomorrow’s date\n",
    "from datetime import datetime, timedelta\n",
    "presentday = datetime.now() \n",
    "yesterday = presentday - timedelta(1)\n",
    "tomorrow = presentday + timedelta(1)\n",
    "print(\"Yesterday = \", yesterday.strftime('%d-%m-%Y'))\n",
    "print(\"Today = \", presentday.strftime('%d-%m-%Y'))\n",
    "print(\"Tomorrow = \", tomorrow.strftime('%d-%m-%Y'))"
   ]
  },
  {
   "cell_type": "code",
   "execution_count": 28,
   "id": "e91749e9",
   "metadata": {},
   "outputs": [
    {
     "name": "stdout",
     "output_type": "stream",
     "text": [
      "23:05:45\n"
     ]
    }
   ],
   "source": [
    "#21. Write a python program to convert time from 12 hour to 24 hour format\n",
    "def convert24(str1):\n",
    "    if str1[-2:] == \"AM\" and str1[:2] == \"12\":\n",
    "        return \"00\" + str1[2:-2]\n",
    "    elif str1[-2:] == \"AM\":\n",
    "        return str1[:-2]\n",
    "    elif str1[-2:] == \"PM\" and str1[:2] == \"12\":\n",
    "        return str1[:-2]\n",
    "    else:\n",
    "        return str(int(str1[:2]) + 12) + str1[2:8]\n",
    "print(convert24(\"11:05:45 PM\"))"
   ]
  },
  {
   "cell_type": "code",
   "execution_count": 29,
   "id": "b5883730",
   "metadata": {},
   "outputs": [
    {
     "name": "stdout",
     "output_type": "stream",
     "text": [
      "2 : 25\n",
      "0 : 31\n"
     ]
    }
   ],
   "source": [
    "#22. Write a python program to find difference between current time and given time\n",
    "def difference(h1, m1, h2, m2):\n",
    "    t1 = h1 * 60 + m1\n",
    "    t2 = h2 * 60 + m2\n",
    "    if (t1 == t2):\n",
    "        print(\"Both are same times\")\n",
    "        return\n",
    "    else:\n",
    "        diff = t2-t1\n",
    "    h = (int(diff / 60)) % 24\n",
    "    m = diff % 60\n",
    "    print(h, \":\", m)\n",
    "if __name__ == \"__main__\":\n",
    "    difference(7, 20, 9, 45)\n",
    "    difference(15, 23, 15, 54)"
   ]
  },
  {
   "cell_type": "code",
   "execution_count": null,
   "id": "9779e641",
   "metadata": {},
   "outputs": [
    {
     "name": "stdout",
     "output_type": "stream",
     "text": [
      "Click on ENTER to count laps.\n",
      "Press CTRL+C to stop\n",
      "3\n",
      "Lap No. 1\n",
      "Total Time: 13.49\n",
      "Lap Time: 13.49\n",
      "********************\n",
      "1\n",
      "Lap No. 2\n",
      "Total Time: 21.31\n",
      "Lap Time: 7.82\n",
      "********************\n",
      "exit\n",
      "Lap No. 3\n",
      "Total Time: 26.81\n",
      "Lap Time: 5.49\n",
      "********************\n"
     ]
    }
   ],
   "source": [
    "#23. Write a python Program to Create a Lap Timer\n",
    "import time\n",
    "\n",
    "start_time=time.time()\n",
    "end_time=start_time\n",
    "lap_num=1\n",
    "\n",
    "print(\"Click on ENTER to count laps.\\nPress CTRL+C to stop\")\n",
    "\n",
    "try:\n",
    "    while True:\n",
    "\n",
    "        input()\n",
    "        time_laps=round((time.time() - end_time), 2)\n",
    "\n",
    "        tot_time=round((time.time() - start_time), 2)\n",
    "\n",
    "        print(\"Lap No. \"+str(lap_num))\n",
    "        print(\"Total Time: \"+str(tot_time))\n",
    "        print(\"Lap Time: \"+str(time_laps))\n",
    "\n",
    "        print(\"*\"*20)\n",
    "\n",
    "        end_time=time.time()\n",
    "        lap_num+=1\n",
    "\n",
    "except KeyboardInterrupt:\n",
    "    print(\"Exit!\")"
   ]
  },
  {
   "cell_type": "code",
   "execution_count": null,
   "id": "cd00e343",
   "metadata": {},
   "outputs": [],
   "source": [
    "#24.Convert date string to timestamp in Python\n",
    "import time\n",
    "import datetime\n",
    "\n",
    "\n",
    "string = \"20/01/2020\"\n",
    "\n",
    "element = datetime.datetime.strptime(string,\"%d/%m/%Y\")\n",
    "\n",
    "tuple = element.timetuple()\n",
    "timestamp = time.mktime(tuple)\n",
    "\n",
    "print(timestamp)"
   ]
  },
  {
   "cell_type": "code",
   "execution_count": null,
   "id": "fb207172",
   "metadata": {},
   "outputs": [],
   "source": [
    "#25. Find number of times every day occurs in a Year\n",
    "import datetime\n",
    "import calendar\n",
    "def day_occur_time(year):\n",
    "    days = [ \"Monday\", \"Tuesday\", \"Wednesday\",\"Thursday\", \"Friday\", \"Saturday\",\"Sunday\" ]\n",
    "    L = [52 for i in range(7)]\n",
    "    pos = -1\n",
    "    day = datetime.datetime(year, month = 1, day = 1).strftime(\"%A\")\n",
    "    for i in range(7):\n",
    "        if day == days[i]:\n",
    "            pos = i\n",
    "    if calendar.isleap(year):\n",
    "        L[pos] += 1\n",
    "        L[(pos+1)%7] += 1\n",
    "    else:\n",
    "        L[pos] += 1\n",
    "    for i in range(7):\n",
    "        print(days[i], L[i])\n",
    "year = 2022\n",
    "day_occur_time(year)\n"
   ]
  },
  {
   "cell_type": "code",
   "execution_count": null,
   "id": "8823a523",
   "metadata": {},
   "outputs": [],
   "source": []
  }
 ],
 "metadata": {
  "kernelspec": {
   "display_name": "Python 3 (ipykernel)",
   "language": "python",
   "name": "python3"
  },
  "language_info": {
   "codemirror_mode": {
    "name": "ipython",
    "version": 3
   },
   "file_extension": ".py",
   "mimetype": "text/x-python",
   "name": "python",
   "nbconvert_exporter": "python",
   "pygments_lexer": "ipython3",
   "version": "3.9.7"
  }
 },
 "nbformat": 4,
 "nbformat_minor": 5
}
